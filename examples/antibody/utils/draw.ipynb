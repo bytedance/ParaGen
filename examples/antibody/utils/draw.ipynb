{
 "cells": [
  {
   "cell_type": "code",
   "execution_count": null,
   "metadata": {},
   "outputs": [],
   "source": [
    "import json\n",
    "import numpy as np\n",
    "import seaborn as sns\n",
    "import matplotlib.pyplot as plt"
   ]
  },
  {
   "cell_type": "code",
   "execution_count": null,
   "metadata": {},
   "outputs": [],
   "source": [
    "def draw_heatmap(data, x, y, ax=None):\n",
    "    if isinstance(x, str):\n",
    "        x = list(x)\n",
    "    if isinstance(y, str):\n",
    "        y = list(y)\n",
    "    ax = sns.heatmap(data, xticklabels=x, yticklabels=y, cbar=True, ax=ax, cmap=\"YlGnBu\")\n",
    "    return ax"
   ]
  },
  {
   "cell_type": "code",
   "execution_count": null,
   "metadata": {},
   "outputs": [],
   "source": [
    "celltype=['Immature B cell','Transitional B cell','Mature B cell','Plasmacytes PC', 'Memory IgD-','Memory IgD+']"
   ]
  },
  {
   "cell_type": "markdown",
   "metadata": {},
   "source": [
    "## UMAP\n",
    "https://github.com/lmcinnes/umap"
   ]
  },
  {
   "cell_type": "markdown",
   "metadata": {},
   "source": [
    "## Germline"
   ]
  },
  {
   "cell_type": "code",
   "execution_count": null,
   "metadata": {},
   "outputs": [],
   "source": [
    "!pip install umap-learn"
   ]
  },
  {
   "cell_type": "code",
   "execution_count": null,
   "metadata": {},
   "outputs": [],
   "source": [
    "import matplotlib.pyplot as plt\n",
    "import seaborn as sns\n",
    "import umap.umap_ as umap\n",
    "import pandas as pd\n",
    "import numpy as np"
   ]
  },
  {
   "cell_type": "code",
   "execution_count": null,
   "metadata": {},
   "outputs": [],
   "source": [
    "# https://matplotlib.org/stable/tutorials/colors/colormaps.html\n",
    "sns.color_palette()"
   ]
  },
  {
   "cell_type": "code",
   "execution_count": null,
   "metadata": {},
   "outputs": [],
   "source": [
    "def drawUMAP(data, n_neighbors=15, min_dist=0.1, n_components=2, metric='euclidean', c=None, cmap=None,title='', savename=''):\n",
    "    fit = umap.UMAP(\n",
    "        n_neighbors=n_neighbors,\n",
    "        min_dist=min_dist,\n",
    "        n_components=n_components,\n",
    "        metric=metric\n",
    "    )\n",
    "    u = fit.fit_transform(data)\n",
    "    fig = plt.figure()\n",
    "    if n_components == 1:\n",
    "        ax = fig.add_subplot(111)\n",
    "        ax = ax.scatter(u[:,0], range(len(u)), c=c, cmap=cmap, s=5)\n",
    "    if n_components == 2:\n",
    "        ax = fig.add_subplot(111)\n",
    "        ax = ax.scatter(u[:,0], u[:,1], c=c, cmap=cmap, s=5)\n",
    "    if n_components == 3:\n",
    "        ax = fig.add_subplot(111, projection='3d')\n",
    "        ax = ax.scatter(u[:,0], u[:,1], u[:,2], c=data, cmap=cmap, s=100)\n",
    "    plt.title(title, fontsize=18)\n",
    "    plt.colorbar(ax)\n",
    "    if savename:\n",
    "        plt.savefig(savename, dpi=200)"
   ]
  },
  {
   "cell_type": "code",
   "execution_count": null,
   "metadata": {},
   "outputs": [],
   "source": [
    "def calDist(refer, hypo, mode='distance'):\n",
    "    import Levenshtein as L\n",
    "    if mode == 'distance':\n",
    "        dist_func = L.distance\n",
    "    elif mode == 'hamming':\n",
    "        dist_func = L.hamming\n",
    "    else:\n",
    "        raise NotImplementedError\n",
    "    return dist_func(refer, hypo)"
   ]
  },
  {
   "cell_type": "code",
   "execution_count": null,
   "metadata": {},
   "outputs": [],
   "source": [
    "def drawListUMAP(data, n_neighbors=15, min_dist=0.1, n_components=2, metric='euclidean', c=[], clabel=[], title='', savename=''):\n",
    "    fit = umap.UMAP(\n",
    "        n_neighbors=n_neighbors,\n",
    "        min_dist=min_dist,\n",
    "        n_components=n_components,\n",
    "        metric=metric\n",
    "    )\n",
    "    fig, ax = plt.subplots()\n",
    "    for d,cc,l in zip(data, c, clabel):\n",
    "        u = fit.fit_transform(d)\n",
    "        print(cc,l)\n",
    "        ax.scatter(u[:,0], u[:,1], c=[cc]*len(d), label=l, s=5)\n",
    "    plt.title(title, fontsize=18)\n",
    "    ax.legend()\n",
    "    if savename:\n",
    "        plt.savefig(savename, dpi=200)"
   ]
  },
  {
   "source": [
    "# Cumulate Prob"
   ],
   "cell_type": "markdown",
   "metadata": {}
  },
  {
   "cell_type": "code",
   "execution_count": null,
   "metadata": {},
   "outputs": [],
   "source": [
    "import json\n",
    "import numpy as np\n",
    "import random\n",
    "random.seed(233)"
   ]
  },
  {
   "cell_type": "code",
   "execution_count": null,
   "metadata": {},
   "outputs": [],
   "source": [
    "name='analysis/model.top1000.cdrmatch.json'\n",
    "data = json.load(open(name))"
   ]
  },
  {
   "cell_type": "code",
   "execution_count": null,
   "metadata": {},
   "outputs": [],
   "source": [
    "cumdata = {k:np.cumsum(v) for k, v in oridata.items()}"
   ]
  },
  {
   "cell_type": "code",
   "execution_count": null,
   "metadata": {},
   "outputs": [],
   "source": [
    "def cumulatePlot(fname, suffix='_sars0513_2_1000.uniq.log', need_random=True):\n",
    "    data = json.load(open(fname))\n",
    "    print(data.keys())\n",
    "    data = {k: v for k, v in data.items() if k.replace(suffix,'') in name_mapping}\n",
    "    oridata = {name_mapping[k.replace(suffix,'')]:v for k, v in data.items()}\n",
    "    cumdata = {k:np.cumsum(v) for k, v in oridata.items()}\n",
    "\n",
    "    # figs, ax = plt.subplots()\n",
    "    for i, name in enumerate(model_orders):\n",
    "        if name != 'Random':\n",
    "            v = cumdata[name]\n",
    "            print(len(v))\n",
    "            plt.plot(v, label=name, color=color[i])\n",
    "    if need_random:\n",
    "        # plt.plot(cumdata['Random'], label='Random', color=\"black\")\n",
    "        plt.plot([0,len(cumdata['Transformer'])], [0, cumdata['Transformer'][-1]], label='Expected', color=\"grey\", linestyle='dashed')\n",
    "    \n",
    "    plt.legend(fontsize=12)\n",
    "    plt.xticks(fontsize=12)\n",
    "    plt.yticks(fontsize=12)\n",
    "    print(fname.replace('.json', 'pdf'))\n",
    "    plt.savefig(fname.replace('.json', '.pdf'), dpi=100)"
   ]
  },
  {
   "cell_type": "code",
   "execution_count": null,
   "metadata": {},
   "outputs": [],
   "source": []
  }
 ],
 "metadata": {
  "kernelspec": {
   "name": "Python 3.7.3 64-bit",
   "display_name": "Python 3.7.3 64-bit",
   "metadata": {
    "interpreter": {
     "hash": "31f2aee4e71d21fbe5cf8b01ff0e069b9275f58929596ceb00d14d90e3e16cd6"
    }
   }
  },
  "language_info": {
   "codemirror_mode": {
    "name": "ipython",
    "version": 3
   },
   "file_extension": ".py",
   "mimetype": "text/x-python",
   "name": "python",
   "nbconvert_exporter": "python",
   "pygments_lexer": "ipython3",
   "version": "3.7.3-final"
  }
 },
 "nbformat": 4,
 "nbformat_minor": 4
}